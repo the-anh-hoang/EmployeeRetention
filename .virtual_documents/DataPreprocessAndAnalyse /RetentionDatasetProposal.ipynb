


library(GGally) 
library(ggplot2) 
library(infer)
library(corrplot) 
library(reshape2) 
library(gridExtra)
library(broom)
library(performance)
library(glmbb)
library(cowplot)
library(tidyverse)





























data <- read_csv("data/Employee.csv")
head(data) 





data$City <- as.factor(data$City) 
data$Gender <- ifelse(data$Gender == "Male",0 , 1)
data$EverBenched <- ifelse(data$EverBenched == "No", 0 , 1)

data <- data %>%
    drop_na()

head(data)









# Selecting numerical columns for correlation analysis
numeric_data <- data[, sapply(data, is.numeric)]
constant_columns <- sapply(numeric_data, function(col) sd(col) == 0)
filtered_data <- numeric_data[, !constant_columns]

# Compute the correlation matrix
correlation_matrix <- cor(filtered_data, use = "complete.obs")

                           
# Plot correlation heatmap
corrplot(correlation_matrix, method="color", col=colorRampPalette(c("blue", "white", "red"))(200), 
         tl.col="black", tl.cex=0.8, number.cex=0.7, addCoef.col="black",
                 mar=c(0, 0, 1, 0))
title(main="Correlation Matrix Heatmap", cex.main=1.5, font.main=2)












# Boxplot for Age
p1 <- ggplot(data, aes(x=factor(LeaveOrNot), y=Age)) +
  geom_boxplot() +
  labs(title="Boxplot of Age by LeaveOrNot", x="LeaveOrNot", y="Age")

# Boxplot for ExperienceInCurrentDomain
p2 <- ggplot(data, aes(x=factor(LeaveOrNot), y=ExperienceInCurrentDomain)) +
  geom_boxplot() +
  labs(title="Boxplot of ExperienceInCurrentDomain by LeaveOrNot", x="LeaveOrNot", y="Experience In Current Domain")

# Arrange numerical plots in a grid
grid.arrange(p1, p2, ncol=2)



# Countplot for Education
p3 <- ggplot(data, aes(x=Education, fill=factor(LeaveOrNot))) +
  geom_bar(position="dodge") +
  labs(title="Education by LeaveOrNot", x="Education", y="Count", fill="LeaveOrNot")

# Countplot for Gender
p4 <- ggplot(data, aes(x=Gender, fill=factor(LeaveOrNot))) +
  geom_bar(position="dodge") +
  labs(title="Gender by LeaveOrNot", x="Gender", y="Count", fill="LeaveOrNot")

# Countplot for City
p5 <- ggplot(data, aes(x=City, fill=factor(LeaveOrNot))) +
  geom_bar(position="dodge") +
  labs(title="City by LeaveOrNot", x="City", y="Count", fill="LeaveOrNot")

# Countplot for PaymentTier
p6 <- ggplot(data, aes(x=factor(PaymentTier), fill=factor(LeaveOrNot))) +
  geom_bar(position="dodge") +
  labs(title="PaymentTier by LeaveOrNot", x="Payment Tier", y="Count", fill="LeaveOrNot")

# Countplot for JoiningYear
p7 <- ggplot(data, aes(x=factor(JoiningYear), fill=factor(LeaveOrNot))) +
  geom_bar(position="dodge") +
  labs(title="JoiningYear by LeaveOrNot", x="Joining Year", y="Count", fill="LeaveOrNot")

# Countplot for EverBenched
p8 <- ggplot(data, aes(x=EverBenched, fill=factor(LeaveOrNot))) +
  geom_bar(position="dodge") +
  labs(title="EverBenched by LeaveOrNot", x="Ever Benched", y="Count", fill="LeaveOrNot") 


# Arrange categorical plots in a grid

grid.arrange(p3, p4, p5, p6, p7, p8,  ncol = 2)




























