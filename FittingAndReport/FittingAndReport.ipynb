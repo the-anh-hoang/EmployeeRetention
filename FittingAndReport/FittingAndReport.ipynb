{
 "cells": [
  {
   "cell_type": "markdown",
   "id": "da527379-feaf-422d-bfed-e20b47de812f",
   "metadata": {},
   "source": [
    "# INTRODUCTION"
   ]
  },
  {
   "cell_type": "code",
   "execution_count": null,
   "id": "f45a7261-85b3-445a-8dc1-d15046895217",
   "metadata": {},
   "outputs": [],
   "source": []
  },
  {
   "cell_type": "markdown",
   "id": "fe5460a3-36a6-47f1-971b-b300fe63f441",
   "metadata": {},
   "source": [
    "# METHODS and RESULTS"
   ]
  },
  {
   "cell_type": "code",
   "execution_count": null,
   "id": "bdaf8991-5539-4687-a468-67693f8472f1",
   "metadata": {},
   "outputs": [],
   "source": []
  },
  {
   "cell_type": "markdown",
   "id": "f79a533f-6c42-49c6-810b-16ea942a74f0",
   "metadata": {},
   "source": [
    "# DISCUSSION"
   ]
  },
  {
   "cell_type": "code",
   "execution_count": null,
   "id": "8858e248-225c-4f99-b8eb-59fd13065455",
   "metadata": {},
   "outputs": [],
   "source": []
  },
  {
   "cell_type": "markdown",
   "id": "1751e54b-2729-4a7b-9c33-d4f53a922fac",
   "metadata": {},
   "source": [
    "# REFERENCES"
   ]
  },
  {
   "cell_type": "code",
   "execution_count": null,
   "id": "74e95a4d-3733-4960-9811-6ab8be737010",
   "metadata": {},
   "outputs": [],
   "source": []
  }
 ],
 "metadata": {
  "kernelspec": {
   "display_name": "R",
   "language": "R",
   "name": "ir"
  },
  "language_info": {
   "codemirror_mode": "r",
   "file_extension": ".r",
   "mimetype": "text/x-r-source",
   "name": "R",
   "pygments_lexer": "r",
   "version": "4.3.1"
  }
 },
 "nbformat": 4,
 "nbformat_minor": 5
}
