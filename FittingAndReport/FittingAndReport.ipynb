{
 "cells": [
  {
   "cell_type": "markdown",
   "id": "c822d6f4-c7c0-4cc6-83ee-d77ef0084adb",
   "metadata": {},
   "source": [
    "# INTRODUCTION\n",
    "\n"
   ]
  },
  {
   "cell_type": "markdown",
   "id": "72503806-6439-43e9-84c2-23d1b5f51a63",
   "metadata": {},
   "source": [
    "Employee retention is critical for organizations, impacting company performance and the workplace culture. This report will explore the factors influencing an employee's decision to leave a company and building a model that predicts whether an employee leaves or not based on those factors. "
   ]
  },
  {
   "cell_type": "markdown",
   "id": "f088c901-0a56-4201-aa36-8849dcef8783",
   "metadata": {},
   "source": [
    "A particular focus has been placed on how demographic factors such as age, gender, and payment tier affect turnover rates.\n"
   ]
  },
  {
   "cell_type": "markdown",
   "id": "a807516c-c42f-4b82-9af8-e5843d14f4dd",
   "metadata": {},
   "source": [
    "**Objective:**\n",
    "\n",
    "This study aims to investigate the following question:\n",
    "### <center> Is an employee going to leave a company based on age, gender, and salary? </center>\n",
    "\n"
   ]
  },
  {
   "cell_type": "markdown",
   "id": "248f54fe-84e8-4395-a688-236ac209c825",
   "metadata": {},
   "source": [
    "This research will be conducted with reference to existing literature, including \"Employee Retention Practices in Hospitality Industry in Nepal: Investigating the Moderating Effect of Management Hierarchy, Age Group and Gender\" by Sthapit and Shrestha in 2018 and \"Employee Retention and Turnover: Using motivational Variables as a Panacea\" by Sharon E. Prince which provide insights into the covariates of interest. By aligning our analysis with these findings, we aim to contribute to the broader understanding of employee turnover and inform organizational practices."
   ]
  },
  {
   "cell_type": "markdown",
   "id": "3d30e353-6bd2-4d94-8c5c-b63f6b8188a8",
   "metadata": {},
   "source": [
    "**Background information:**\n",
    "\n",
    "These studies has highlighted that young employees may be more prone to leaving their jobs compared to older employees (Ng et al., 2010). Additionally, the gender dynamics of employee turnover rates are differently distributed between male and female employees. \"Women might have different turnover rates compared to men, influenced by organizational support and workplace environment (Hom et al., 2017).\n",
    "\n",
    "The role of salary as a predictor of employee retention has also been a subject of extensive research. The relationship is complex and may vary depending on other factors such as job satisfaction and career advancement opporunities (Trevor et al., 1997)\n",
    "\n",
    "Also in the context of our project, Sharon's question \"Are motivational factors significant predictors of employee turnover alongside demograc and economic variables?\" would be great to keep in mind in the process of this analysis to identify any outstanding cofounding variables that isn't recorded in this data set."
   ]
  },
  {
   "cell_type": "markdown",
   "id": "4aef3806-bcb5-47cd-9a84-b0850645ef8b",
   "metadata": {},
   "source": [
    "## The Data Set"
   ]
  },
  {
   "cell_type": "markdown",
   "id": "1268368a-ddf7-471b-91ba-1b4d5d3c6227",
   "metadata": {},
   "source": [
    "### Employee Retention data set: \n",
    "**Source:** https://www.kaggle.com/datasets/tawfikelmetwally/employee-dataset?resource=download\n",
    "\n",
    "**Summary:**\n",
    "- Number of observations: 4654\n",
    "- Number of features: 9\n",
    "\n",
    "**Features:**\n",
    "- `education`: the degree which each employee obtain.\n",
    "- `JoiningYear`: year at which the employee join the company.\n",
    "- `City`: The location or city where each employee is based or works.\n",
    "- `PaymentTier`: categorization of employees into different salary tiers.\n",
    "- `Age`: the age of each employee, providing demographic insights.\n",
    "- `Gender`: gender identity of employees, promoting diversity analysis.\n",
    "- `EverBenched`: Indicates if an employee has ever been temporarily without assigned work.\n",
    "- `ExperienceInCurrentDomain`: the number of years of experience employees have in their current field.\n",
    "- `LeaveOrNot`: whether the employee left the company or not.\n",
    "\n",
    "**Background:**\n",
    "\n",
    "The data have been collected from company's HR department in 2018 which provide valuable insights into the workforce while maintaining employees privacy rights."
   ]
  },
  {
   "cell_type": "markdown",
   "id": "fe5460a3-36a6-47f1-971b-b300fe63f441",
   "metadata": {
    "tags": []
   },
   "source": [
    "# METHODS and RESULTS"
   ]
  },
  {
   "cell_type": "markdown",
   "id": "62a9c74d-8c66-4ddd-86a5-3ca5fb22a03d",
   "metadata": {},
   "source": [
    "**Proposed Model: Logistic Regression**\n",
    "\n",
    "1. **Binary Outcome:** Logistic regression is appropriate for binary response variables which would allow us to estimate the probability of employee retention based on our covariates.\n",
    "\n",
    "2. **Interpretability:** The coefficients from logistic (logit) provide insights into the odds of the outcome occuring, making it easy to interpret.\n",
    "\n",
    "3. **Handling Non-linearity:** By using a logistic model, it can model non-linear relationships between the predictors and the probability of the binary outcome."
   ]
  },
  {
   "cell_type": "markdown",
   "id": "1b8d099e-ccaf-4116-bc42-98917eef799f",
   "metadata": {},
   "source": [
    "**Assumptions:**\n",
    "\n",
    "1. **Linearity of Logits:** The relationship between our covariates and the logit of `LeaveOrNot` should reflect a linear relationship.\n",
    "\n",
    " \n",
    "2. **Independence:** Observations should be independent of each other.\n",
    "\n",
    "\n",
    "3. **Multicollinearity** Independent variables should not be heavily correlated.\n"
   ]
  },
  {
   "cell_type": "markdown",
   "id": "f4dd7e19-ee75-467f-959b-50d7c2d1b168",
   "metadata": {},
   "source": [
    "## Loading in the Data"
   ]
  },
  {
   "cell_type": "code",
   "execution_count": 1,
   "id": "ed7b4326-f1e6-4eae-86ba-04c8d4cd7a17",
   "metadata": {
    "tags": []
   },
   "outputs": [
    {
     "name": "stderr",
     "output_type": "stream",
     "text": [
      "── \u001b[1mAttaching core tidyverse packages\u001b[22m ──────────────────────── tidyverse 2.0.0 ──\n",
      "\u001b[32m✔\u001b[39m \u001b[34mdplyr    \u001b[39m 1.1.4     \u001b[32m✔\u001b[39m \u001b[34mreadr    \u001b[39m 2.1.5\n",
      "\u001b[32m✔\u001b[39m \u001b[34mforcats  \u001b[39m 1.0.0     \u001b[32m✔\u001b[39m \u001b[34mstringr  \u001b[39m 1.5.1\n",
      "\u001b[32m✔\u001b[39m \u001b[34mggplot2  \u001b[39m 3.5.1     \u001b[32m✔\u001b[39m \u001b[34mtibble   \u001b[39m 3.2.1\n",
      "\u001b[32m✔\u001b[39m \u001b[34mlubridate\u001b[39m 1.9.3     \u001b[32m✔\u001b[39m \u001b[34mtidyr    \u001b[39m 1.3.1\n",
      "\u001b[32m✔\u001b[39m \u001b[34mpurrr    \u001b[39m 1.0.2     \n",
      "── \u001b[1mConflicts\u001b[22m ────────────────────────────────────────── tidyverse_conflicts() ──\n",
      "\u001b[31m✖\u001b[39m \u001b[34mdplyr\u001b[39m::\u001b[32mfilter()\u001b[39m masks \u001b[34mstats\u001b[39m::filter()\n",
      "\u001b[31m✖\u001b[39m \u001b[34mdplyr\u001b[39m::\u001b[32mlag()\u001b[39m    masks \u001b[34mstats\u001b[39m::lag()\n",
      "\u001b[36mℹ\u001b[39m Use the conflicted package (\u001b[3m\u001b[34m<http://conflicted.r-lib.org/>\u001b[39m\u001b[23m) to force all conflicts to become errors\n",
      "Warning message:\n",
      "“package ‘digest’ was built under R version 4.3.3”\n",
      "\n",
      "Attaching package: ‘cowplot’\n",
      "\n",
      "\n",
      "The following object is masked from ‘package:lubridate’:\n",
      "\n",
      "    stamp\n",
      "\n",
      "\n",
      "Warning message:\n",
      "“package ‘broom’ was built under R version 4.3.3”\n",
      "Loading required package: car\n",
      "\n",
      "Loading required package: carData\n",
      "\n",
      "\n",
      "Attaching package: ‘car’\n",
      "\n",
      "\n",
      "The following object is masked from ‘package:dplyr’:\n",
      "\n",
      "    recode\n",
      "\n",
      "\n",
      "The following object is masked from ‘package:purrr’:\n",
      "\n",
      "    some\n",
      "\n",
      "\n",
      "Loading required package: lmtest\n",
      "\n",
      "Loading required package: zoo\n",
      "\n",
      "\n",
      "Attaching package: ‘zoo’\n",
      "\n",
      "\n",
      "The following objects are masked from ‘package:base’:\n",
      "\n",
      "    as.Date, as.Date.numeric\n",
      "\n",
      "\n",
      "Loading required package: sandwich\n",
      "\n",
      "Loading required package: survival\n",
      "\n",
      "Registered S3 method overwritten by 'GGally':\n",
      "  method from   \n",
      "  +.gg   ggplot2\n",
      "\n",
      "\n",
      "Attaching package: ‘modelr’\n",
      "\n",
      "\n",
      "The following object is masked from ‘package:broom’:\n",
      "\n",
      "    bootstrap\n",
      "\n",
      "\n",
      "Warning message in check_dep_version():\n",
      "“ABI version mismatch: \n",
      "lme4 was built with Matrix ABI version 1\n",
      "Current Matrix ABI version is 0\n",
      "Please re-install lme4 from source or restore original ‘Matrix’ package”\n",
      "\n",
      "Attaching package: ‘faraway’\n",
      "\n",
      "\n",
      "The following object is masked from ‘package:GGally’:\n",
      "\n",
      "    happy\n",
      "\n",
      "\n",
      "The following objects are masked from ‘package:survival’:\n",
      "\n",
      "    rats, solder\n",
      "\n",
      "\n",
      "The following objects are masked from ‘package:car’:\n",
      "\n",
      "    logit, vif\n",
      "\n",
      "\n",
      "\n",
      "Attaching package: ‘MASS’\n",
      "\n",
      "\n",
      "The following object is masked from ‘package:dplyr’:\n",
      "\n",
      "    select\n",
      "\n",
      "\n",
      "Loading required package: lattice\n",
      "\n",
      "\n",
      "Attaching package: ‘lattice’\n",
      "\n",
      "\n",
      "The following object is masked from ‘package:faraway’:\n",
      "\n",
      "    melanoma\n",
      "\n",
      "\n",
      "\n",
      "Attaching package: ‘caret’\n",
      "\n",
      "\n",
      "The following object is masked from ‘package:survival’:\n",
      "\n",
      "    cluster\n",
      "\n",
      "\n",
      "The following object is masked from ‘package:purrr’:\n",
      "\n",
      "    lift\n",
      "\n",
      "\n",
      "Loading required package: Matrix\n",
      "\n",
      "\n",
      "Attaching package: ‘Matrix’\n",
      "\n",
      "\n",
      "The following objects are masked from ‘package:tidyr’:\n",
      "\n",
      "    expand, pack, unpack\n",
      "\n",
      "\n",
      "Loaded glmnet 4.1-8\n",
      "\n",
      "\n",
      "Attaching package: ‘qqplotr’\n",
      "\n",
      "\n",
      "The following objects are masked from ‘package:ggplot2’:\n",
      "\n",
      "    stat_qq_line, StatQqLine\n",
      "\n",
      "\n",
      "Warning message:\n",
      "“package ‘performance’ was built under R version 4.3.3”\n",
      "\n",
      "Attaching package: ‘performance’\n",
      "\n",
      "\n",
      "The following objects are masked from ‘package:modelr’:\n",
      "\n",
      "    mae, mse, rmse\n",
      "\n",
      "\n",
      "\n",
      "Attaching package: ‘yardstick’\n",
      "\n",
      "\n",
      "The following objects are masked from ‘package:performance’:\n",
      "\n",
      "    mae, rmse\n",
      "\n",
      "\n",
      "The following objects are masked from ‘package:caret’:\n",
      "\n",
      "    precision, recall, sensitivity, specificity\n",
      "\n",
      "\n",
      "The following objects are masked from ‘package:modelr’:\n",
      "\n",
      "    mae, mape, rmse\n",
      "\n",
      "\n",
      "The following object is masked from ‘package:readr’:\n",
      "\n",
      "    spec\n",
      "\n",
      "\n",
      "\n",
      "Attaching package: ‘gridExtra’\n",
      "\n",
      "\n",
      "The following object is masked from ‘package:dplyr’:\n",
      "\n",
      "    combine\n",
      "\n",
      "\n",
      "\n",
      "Attaching package: ‘mltools’\n",
      "\n",
      "\n",
      "The following objects are masked from ‘package:yardstick’:\n",
      "\n",
      "    mcc, rmse\n",
      "\n",
      "\n",
      "The following objects are masked from ‘package:performance’:\n",
      "\n",
      "    mse, rmse\n",
      "\n",
      "\n",
      "The following objects are masked from ‘package:modelr’:\n",
      "\n",
      "    mse, rmse\n",
      "\n",
      "\n",
      "The following object is masked from ‘package:tidyr’:\n",
      "\n",
      "    replace_na\n",
      "\n",
      "\n",
      "Warning message:\n",
      "“package ‘leaps’ was built under R version 4.3.3”\n"
     ]
    }
   ],
   "source": [
    "# We first attach any necessary libraries to conduct our exploratory data analysis and modelling\n",
    "library(tidyverse)\n",
    "library(repr)\n",
    "library(digest)\n",
    "library(infer)\n",
    "library(cowplot)\n",
    "library(broom)\n",
    "library(AER)\n",
    "library(GGally)\n",
    "library(modelr)\n",
    "library(faraway)\n",
    "library(MASS)\n",
    "library(caret)\n",
    "library(glmnet)\n",
    "library(ggplot2)\n",
    "library(MASS)\n",
    "library(mlbench)\n",
    "library(ISLR)\n",
    "library(qqplotr)\n",
    "library(performance)\n",
    "library(see)\n",
    "library(glmbb)\n",
    "library(dplyr)\n",
    "library(yardstick)\n",
    "library(gridExtra)\n",
    "library(mltools)\n",
    "library(leaps)\n",
    "library(rsample)\n"
   ]
  },
  {
   "cell_type": "code",
   "execution_count": 2,
   "id": "82ad7515-798f-4c59-a208-1670e49d16f9",
   "metadata": {
    "tags": []
   },
   "outputs": [
    {
     "name": "stderr",
     "output_type": "stream",
     "text": [
      "\u001b[1mRows: \u001b[22m\u001b[34m4653\u001b[39m \u001b[1mColumns: \u001b[22m\u001b[34m9\u001b[39m\n",
      "\u001b[36m──\u001b[39m \u001b[1mColumn specification\u001b[22m \u001b[36m────────────────────────────────────────────────────────\u001b[39m\n",
      "\u001b[1mDelimiter:\u001b[22m \",\"\n",
      "\u001b[31mchr\u001b[39m (4): Education, City, Gender, EverBenched\n",
      "\u001b[32mdbl\u001b[39m (5): JoiningYear, PaymentTier, Age, ExperienceInCurrentDomain, LeaveOrNot\n",
      "\n",
      "\u001b[36mℹ\u001b[39m Use `spec()` to retrieve the full column specification for this data.\n",
      "\u001b[36mℹ\u001b[39m Specify the column types or set `show_col_types = FALSE` to quiet this message.\n"
     ]
    },
    {
     "data": {
      "text/html": [
       "<table class=\"dataframe\">\n",
       "<caption>A tibble: 6 × 9</caption>\n",
       "<thead>\n",
       "\t<tr><th scope=col>Education</th><th scope=col>JoiningYear</th><th scope=col>City</th><th scope=col>PaymentTier</th><th scope=col>Age</th><th scope=col>Gender</th><th scope=col>EverBenched</th><th scope=col>ExperienceInCurrentDomain</th><th scope=col>LeaveOrNot</th></tr>\n",
       "\t<tr><th scope=col>&lt;chr&gt;</th><th scope=col>&lt;dbl&gt;</th><th scope=col>&lt;chr&gt;</th><th scope=col>&lt;dbl&gt;</th><th scope=col>&lt;dbl&gt;</th><th scope=col>&lt;chr&gt;</th><th scope=col>&lt;chr&gt;</th><th scope=col>&lt;dbl&gt;</th><th scope=col>&lt;dbl&gt;</th></tr>\n",
       "</thead>\n",
       "<tbody>\n",
       "\t<tr><td>Bachelors</td><td>2017</td><td>Bangalore</td><td>3</td><td>34</td><td>Male  </td><td>No </td><td>0</td><td>0</td></tr>\n",
       "\t<tr><td>Bachelors</td><td>2013</td><td>Pune     </td><td>1</td><td>28</td><td>Female</td><td>No </td><td>3</td><td>1</td></tr>\n",
       "\t<tr><td>Bachelors</td><td>2014</td><td>New Delhi</td><td>3</td><td>38</td><td>Female</td><td>No </td><td>2</td><td>0</td></tr>\n",
       "\t<tr><td>Masters  </td><td>2016</td><td>Bangalore</td><td>3</td><td>27</td><td>Male  </td><td>No </td><td>5</td><td>1</td></tr>\n",
       "\t<tr><td>Masters  </td><td>2017</td><td>Pune     </td><td>3</td><td>24</td><td>Male  </td><td>Yes</td><td>2</td><td>1</td></tr>\n",
       "\t<tr><td>Bachelors</td><td>2016</td><td>Bangalore</td><td>3</td><td>22</td><td>Male  </td><td>No </td><td>0</td><td>0</td></tr>\n",
       "</tbody>\n",
       "</table>\n"
      ],
      "text/latex": [
       "A tibble: 6 × 9\n",
       "\\begin{tabular}{lllllllll}\n",
       " Education & JoiningYear & City & PaymentTier & Age & Gender & EverBenched & ExperienceInCurrentDomain & LeaveOrNot\\\\\n",
       " <chr> & <dbl> & <chr> & <dbl> & <dbl> & <chr> & <chr> & <dbl> & <dbl>\\\\\n",
       "\\hline\n",
       "\t Bachelors & 2017 & Bangalore & 3 & 34 & Male   & No  & 0 & 0\\\\\n",
       "\t Bachelors & 2013 & Pune      & 1 & 28 & Female & No  & 3 & 1\\\\\n",
       "\t Bachelors & 2014 & New Delhi & 3 & 38 & Female & No  & 2 & 0\\\\\n",
       "\t Masters   & 2016 & Bangalore & 3 & 27 & Male   & No  & 5 & 1\\\\\n",
       "\t Masters   & 2017 & Pune      & 3 & 24 & Male   & Yes & 2 & 1\\\\\n",
       "\t Bachelors & 2016 & Bangalore & 3 & 22 & Male   & No  & 0 & 0\\\\\n",
       "\\end{tabular}\n"
      ],
      "text/markdown": [
       "\n",
       "A tibble: 6 × 9\n",
       "\n",
       "| Education &lt;chr&gt; | JoiningYear &lt;dbl&gt; | City &lt;chr&gt; | PaymentTier &lt;dbl&gt; | Age &lt;dbl&gt; | Gender &lt;chr&gt; | EverBenched &lt;chr&gt; | ExperienceInCurrentDomain &lt;dbl&gt; | LeaveOrNot &lt;dbl&gt; |\n",
       "|---|---|---|---|---|---|---|---|---|\n",
       "| Bachelors | 2017 | Bangalore | 3 | 34 | Male   | No  | 0 | 0 |\n",
       "| Bachelors | 2013 | Pune      | 1 | 28 | Female | No  | 3 | 1 |\n",
       "| Bachelors | 2014 | New Delhi | 3 | 38 | Female | No  | 2 | 0 |\n",
       "| Masters   | 2016 | Bangalore | 3 | 27 | Male   | No  | 5 | 1 |\n",
       "| Masters   | 2017 | Pune      | 3 | 24 | Male   | Yes | 2 | 1 |\n",
       "| Bachelors | 2016 | Bangalore | 3 | 22 | Male   | No  | 0 | 0 |\n",
       "\n"
      ],
      "text/plain": [
       "  Education JoiningYear City      PaymentTier Age Gender EverBenched\n",
       "1 Bachelors 2017        Bangalore 3           34  Male   No         \n",
       "2 Bachelors 2013        Pune      1           28  Female No         \n",
       "3 Bachelors 2014        New Delhi 3           38  Female No         \n",
       "4 Masters   2016        Bangalore 3           27  Male   No         \n",
       "5 Masters   2017        Pune      3           24  Male   Yes        \n",
       "6 Bachelors 2016        Bangalore 3           22  Male   No         \n",
       "  ExperienceInCurrentDomain LeaveOrNot\n",
       "1 0                         0         \n",
       "2 3                         1         \n",
       "3 2                         0         \n",
       "4 5                         1         \n",
       "5 2                         1         \n",
       "6 0                         0         "
      ]
     },
     "metadata": {},
     "output_type": "display_data"
    }
   ],
   "source": [
    "# Demonstrate that the dataset can be read into R\n",
    "employee <- read_csv(\"https://drive.google.com/uc?export=download&id=1M7kblkESIbEDBM77F9Iipf8JwR7BYJ0s\")\n",
    "\n",
    "head(employee)"
   ]
  },
  {
   "cell_type": "markdown",
   "id": "2da7e020-16e2-4228-870c-4e643a2a38b2",
   "metadata": {},
   "source": [
    "It was first demonstrated that the Employee Retention dataset can be read into R. For easy collaboration and access without having to modify the read function's file path argument, a Google Drive direct output link was generated to read the dataset directly from an online source."
   ]
  },
  {
   "cell_type": "markdown",
   "id": "01d55a14-2456-451e-8af8-bcdc54d5ee05",
   "metadata": {},
   "source": [
    "**Issues:**\n",
    "\n",
    "Taking a look at our dataset, we can spot a few problems that has to be dealt with before fitting the model:\n",
    "- `LeaveOrNot`, `Gender`, `EverBenched`, and `PaymentTier` are currently of type double. We will convert these variables into factors to reflect their real-world state\n",
    "- We will also use the information in `JoiningYear` to calculate the employee's number of years/length of service in that company (`YearsInCompany`). This can be done by substracing their joing year from the year of data collection (which is assumed to be 2018)"
   ]
  },
  {
   "cell_type": "markdown",
   "id": "f57c6bdc-7451-4fed-a1a5-f60c4a3212cf",
   "metadata": {},
   "source": [
    "## Data Wrangling"
   ]
  },
  {
   "cell_type": "code",
   "execution_count": 3,
   "id": "d1410222-722d-4d27-8987-f80ad8459c1b",
   "metadata": {
    "tags": []
   },
   "outputs": [
    {
     "data": {
      "text/html": [
       "<table class=\"dataframe\">\n",
       "<caption>A tibble: 6 × 9</caption>\n",
       "<thead>\n",
       "\t<tr><th scope=col>Education</th><th scope=col>YearsInCompany</th><th scope=col>City</th><th scope=col>PaymentTier</th><th scope=col>Age</th><th scope=col>Gender</th><th scope=col>EverBenched</th><th scope=col>ExperienceInCurrentDomain</th><th scope=col>LeaveOrNot</th></tr>\n",
       "\t<tr><th scope=col>&lt;chr&gt;</th><th scope=col>&lt;dbl&gt;</th><th scope=col>&lt;chr&gt;</th><th scope=col>&lt;fct&gt;</th><th scope=col>&lt;dbl&gt;</th><th scope=col>&lt;fct&gt;</th><th scope=col>&lt;fct&gt;</th><th scope=col>&lt;dbl&gt;</th><th scope=col>&lt;fct&gt;</th></tr>\n",
       "</thead>\n",
       "<tbody>\n",
       "\t<tr><td>Bachelors</td><td>1</td><td>Bangalore</td><td>3</td><td>34</td><td>Male  </td><td>No </td><td>0</td><td>0</td></tr>\n",
       "\t<tr><td>Bachelors</td><td>5</td><td>Pune     </td><td>1</td><td>28</td><td>Female</td><td>No </td><td>3</td><td>1</td></tr>\n",
       "\t<tr><td>Bachelors</td><td>4</td><td>New Delhi</td><td>3</td><td>38</td><td>Female</td><td>No </td><td>2</td><td>0</td></tr>\n",
       "\t<tr><td>Masters  </td><td>2</td><td>Bangalore</td><td>3</td><td>27</td><td>Male  </td><td>No </td><td>5</td><td>1</td></tr>\n",
       "\t<tr><td>Masters  </td><td>1</td><td>Pune     </td><td>3</td><td>24</td><td>Male  </td><td>Yes</td><td>2</td><td>1</td></tr>\n",
       "\t<tr><td>Bachelors</td><td>2</td><td>Bangalore</td><td>3</td><td>22</td><td>Male  </td><td>No </td><td>0</td><td>0</td></tr>\n",
       "</tbody>\n",
       "</table>\n"
      ],
      "text/latex": [
       "A tibble: 6 × 9\n",
       "\\begin{tabular}{lllllllll}\n",
       " Education & YearsInCompany & City & PaymentTier & Age & Gender & EverBenched & ExperienceInCurrentDomain & LeaveOrNot\\\\\n",
       " <chr> & <dbl> & <chr> & <fct> & <dbl> & <fct> & <fct> & <dbl> & <fct>\\\\\n",
       "\\hline\n",
       "\t Bachelors & 1 & Bangalore & 3 & 34 & Male   & No  & 0 & 0\\\\\n",
       "\t Bachelors & 5 & Pune      & 1 & 28 & Female & No  & 3 & 1\\\\\n",
       "\t Bachelors & 4 & New Delhi & 3 & 38 & Female & No  & 2 & 0\\\\\n",
       "\t Masters   & 2 & Bangalore & 3 & 27 & Male   & No  & 5 & 1\\\\\n",
       "\t Masters   & 1 & Pune      & 3 & 24 & Male   & Yes & 2 & 1\\\\\n",
       "\t Bachelors & 2 & Bangalore & 3 & 22 & Male   & No  & 0 & 0\\\\\n",
       "\\end{tabular}\n"
      ],
      "text/markdown": [
       "\n",
       "A tibble: 6 × 9\n",
       "\n",
       "| Education &lt;chr&gt; | YearsInCompany &lt;dbl&gt; | City &lt;chr&gt; | PaymentTier &lt;fct&gt; | Age &lt;dbl&gt; | Gender &lt;fct&gt; | EverBenched &lt;fct&gt; | ExperienceInCurrentDomain &lt;dbl&gt; | LeaveOrNot &lt;fct&gt; |\n",
       "|---|---|---|---|---|---|---|---|---|\n",
       "| Bachelors | 1 | Bangalore | 3 | 34 | Male   | No  | 0 | 0 |\n",
       "| Bachelors | 5 | Pune      | 1 | 28 | Female | No  | 3 | 1 |\n",
       "| Bachelors | 4 | New Delhi | 3 | 38 | Female | No  | 2 | 0 |\n",
       "| Masters   | 2 | Bangalore | 3 | 27 | Male   | No  | 5 | 1 |\n",
       "| Masters   | 1 | Pune      | 3 | 24 | Male   | Yes | 2 | 1 |\n",
       "| Bachelors | 2 | Bangalore | 3 | 22 | Male   | No  | 0 | 0 |\n",
       "\n"
      ],
      "text/plain": [
       "  Education YearsInCompany City      PaymentTier Age Gender EverBenched\n",
       "1 Bachelors 1              Bangalore 3           34  Male   No         \n",
       "2 Bachelors 5              Pune      1           28  Female No         \n",
       "3 Bachelors 4              New Delhi 3           38  Female No         \n",
       "4 Masters   2              Bangalore 3           27  Male   No         \n",
       "5 Masters   1              Pune      3           24  Male   Yes        \n",
       "6 Bachelors 2              Bangalore 3           22  Male   No         \n",
       "  ExperienceInCurrentDomain LeaveOrNot\n",
       "1 0                         0         \n",
       "2 3                         1         \n",
       "3 2                         0         \n",
       "4 5                         1         \n",
       "5 2                         1         \n",
       "6 0                         0         "
      ]
     },
     "metadata": {},
     "output_type": "display_data"
    }
   ],
   "source": [
    "# Clean and wrangle your data into a tidy format\n",
    "employee_clean <- employee %>%  \n",
    "mutate(LeaveOrNot = as_factor(LeaveOrNot)) %>% \n",
    "mutate(Gender = as_factor(Gender)) %>% \n",
    "mutate(JoiningYear = 2018 - JoiningYear) %>% \n",
    "rename(YearsInCompany = JoiningYear) %>% \n",
    "mutate(EverBenched = as_factor(EverBenched)) %>%\n",
    "mutate(PaymentTier = as_factor(PaymentTier)) \n",
    "\n",
    "head(employee_clean)\n"
   ]
  },
  {
   "cell_type": "markdown",
   "id": "5eefc4ab-e880-4b7e-ab68-7ddc7106593f",
   "metadata": {},
   "source": [
    "### After modifying the data set, let's take a closer look at the attributes of this data set"
   ]
  },
  {
   "cell_type": "code",
   "execution_count": 4,
   "id": "67f67ac1-ffce-4e6a-b023-429a2b6a53dd",
   "metadata": {
    "tags": []
   },
   "outputs": [
    {
     "name": "stdout",
     "output_type": "stream",
     "text": [
      "[1] \"Number of rows:  4653\"\n",
      "[1] \"Number of NAs row:  0\"\n"
     ]
    },
    {
     "data": {
      "text/html": [
       "<table class=\"dataframe\">\n",
       "<caption>A tibble: 2 × 3</caption>\n",
       "<thead>\n",
       "\t<tr><th scope=col>LeaveOrNot</th><th scope=col>n</th><th scope=col>retention_proportion</th></tr>\n",
       "\t<tr><th scope=col>&lt;fct&gt;</th><th scope=col>&lt;int&gt;</th><th scope=col>&lt;dbl&gt;</th></tr>\n",
       "</thead>\n",
       "<tbody>\n",
       "\t<tr><td>0</td><td>3053</td><td>0.6561358</td></tr>\n",
       "\t<tr><td>1</td><td>1600</td><td>0.3438642</td></tr>\n",
       "</tbody>\n",
       "</table>\n"
      ],
      "text/latex": [
       "A tibble: 2 × 3\n",
       "\\begin{tabular}{lll}\n",
       " LeaveOrNot & n & retention\\_proportion\\\\\n",
       " <fct> & <int> & <dbl>\\\\\n",
       "\\hline\n",
       "\t 0 & 3053 & 0.6561358\\\\\n",
       "\t 1 & 1600 & 0.3438642\\\\\n",
       "\\end{tabular}\n"
      ],
      "text/markdown": [
       "\n",
       "A tibble: 2 × 3\n",
       "\n",
       "| LeaveOrNot &lt;fct&gt; | n &lt;int&gt; | retention_proportion &lt;dbl&gt; |\n",
       "|---|---|---|\n",
       "| 0 | 3053 | 0.6561358 |\n",
       "| 1 | 1600 | 0.3438642 |\n",
       "\n"
      ],
      "text/plain": [
       "  LeaveOrNot n    retention_proportion\n",
       "1 0          3053 0.6561358           \n",
       "2 1          1600 0.3438642           "
      ]
     },
     "metadata": {},
     "output_type": "display_data"
    },
    {
     "data": {
      "text/html": [
       "<table class=\"dataframe\">\n",
       "<caption>A grouped_df: 6 × 4</caption>\n",
       "<thead>\n",
       "\t<tr><th scope=col>LeaveOrNot</th><th scope=col>PaymentTier</th><th scope=col>n</th><th scope=col>proportion_payment</th></tr>\n",
       "\t<tr><th scope=col>&lt;fct&gt;</th><th scope=col>&lt;fct&gt;</th><th scope=col>&lt;int&gt;</th><th scope=col>&lt;dbl&gt;</th></tr>\n",
       "</thead>\n",
       "<tbody>\n",
       "\t<tr><td>0</td><td>1</td><td> 154</td><td>0.05044219</td></tr>\n",
       "\t<tr><td>0</td><td>2</td><td> 368</td><td>0.12053718</td></tr>\n",
       "\t<tr><td>0</td><td>3</td><td>2531</td><td>0.82902064</td></tr>\n",
       "\t<tr><td>1</td><td>1</td><td>  89</td><td>0.05562500</td></tr>\n",
       "\t<tr><td>1</td><td>2</td><td> 550</td><td>0.34375000</td></tr>\n",
       "\t<tr><td>1</td><td>3</td><td> 961</td><td>0.60062500</td></tr>\n",
       "</tbody>\n",
       "</table>\n"
      ],
      "text/latex": [
       "A grouped\\_df: 6 × 4\n",
       "\\begin{tabular}{llll}\n",
       " LeaveOrNot & PaymentTier & n & proportion\\_payment\\\\\n",
       " <fct> & <fct> & <int> & <dbl>\\\\\n",
       "\\hline\n",
       "\t 0 & 1 &  154 & 0.05044219\\\\\n",
       "\t 0 & 2 &  368 & 0.12053718\\\\\n",
       "\t 0 & 3 & 2531 & 0.82902064\\\\\n",
       "\t 1 & 1 &   89 & 0.05562500\\\\\n",
       "\t 1 & 2 &  550 & 0.34375000\\\\\n",
       "\t 1 & 3 &  961 & 0.60062500\\\\\n",
       "\\end{tabular}\n"
      ],
      "text/markdown": [
       "\n",
       "A grouped_df: 6 × 4\n",
       "\n",
       "| LeaveOrNot &lt;fct&gt; | PaymentTier &lt;fct&gt; | n &lt;int&gt; | proportion_payment &lt;dbl&gt; |\n",
       "|---|---|---|---|\n",
       "| 0 | 1 |  154 | 0.05044219 |\n",
       "| 0 | 2 |  368 | 0.12053718 |\n",
       "| 0 | 3 | 2531 | 0.82902064 |\n",
       "| 1 | 1 |   89 | 0.05562500 |\n",
       "| 1 | 2 |  550 | 0.34375000 |\n",
       "| 1 | 3 |  961 | 0.60062500 |\n",
       "\n"
      ],
      "text/plain": [
       "  LeaveOrNot PaymentTier n    proportion_payment\n",
       "1 0          1            154 0.05044219        \n",
       "2 0          2            368 0.12053718        \n",
       "3 0          3           2531 0.82902064        \n",
       "4 1          1             89 0.05562500        \n",
       "5 1          2            550 0.34375000        \n",
       "6 1          3            961 0.60062500        "
      ]
     },
     "metadata": {},
     "output_type": "display_data"
    },
    {
     "data": {
      "text/html": [
       "<table class=\"dataframe\">\n",
       "<caption>A tibble: 2 × 3</caption>\n",
       "<thead>\n",
       "\t<tr><th scope=col>LeaveOrNot</th><th scope=col>proportion_male</th><th scope=col>average_age</th></tr>\n",
       "\t<tr><th scope=col>&lt;fct&gt;</th><th scope=col>&lt;dbl&gt;</th><th scope=col>&lt;dbl&gt;</th></tr>\n",
       "</thead>\n",
       "<tbody>\n",
       "\t<tr><td>0</td><td>0.6754012</td><td>29.5719</td></tr>\n",
       "\t<tr><td>1</td><td>0.4475000</td><td>29.0525</td></tr>\n",
       "</tbody>\n",
       "</table>\n"
      ],
      "text/latex": [
       "A tibble: 2 × 3\n",
       "\\begin{tabular}{lll}\n",
       " LeaveOrNot & proportion\\_male & average\\_age\\\\\n",
       " <fct> & <dbl> & <dbl>\\\\\n",
       "\\hline\n",
       "\t 0 & 0.6754012 & 29.5719\\\\\n",
       "\t 1 & 0.4475000 & 29.0525\\\\\n",
       "\\end{tabular}\n"
      ],
      "text/markdown": [
       "\n",
       "A tibble: 2 × 3\n",
       "\n",
       "| LeaveOrNot &lt;fct&gt; | proportion_male &lt;dbl&gt; | average_age &lt;dbl&gt; |\n",
       "|---|---|---|\n",
       "| 0 | 0.6754012 | 29.5719 |\n",
       "| 1 | 0.4475000 | 29.0525 |\n",
       "\n"
      ],
      "text/plain": [
       "  LeaveOrNot proportion_male average_age\n",
       "1 0          0.6754012       29.5719    \n",
       "2 1          0.4475000       29.0525    "
      ]
     },
     "metadata": {},
     "output_type": "display_data"
    },
    {
     "data": {
      "text/html": [
       "<table class=\"dataframe\">\n",
       "<caption>A tibble: 1 × 1</caption>\n",
       "<thead>\n",
       "\t<tr><th scope=col>mean(Gender == \"Male\")</th></tr>\n",
       "\t<tr><th scope=col>&lt;dbl&gt;</th></tr>\n",
       "</thead>\n",
       "<tbody>\n",
       "\t<tr><td>0.5970342</td></tr>\n",
       "</tbody>\n",
       "</table>\n"
      ],
      "text/latex": [
       "A tibble: 1 × 1\n",
       "\\begin{tabular}{l}\n",
       " mean(Gender == \"Male\")\\\\\n",
       " <dbl>\\\\\n",
       "\\hline\n",
       "\t 0.5970342\\\\\n",
       "\\end{tabular}\n"
      ],
      "text/markdown": [
       "\n",
       "A tibble: 1 × 1\n",
       "\n",
       "| mean(Gender == \"Male\") &lt;dbl&gt; |\n",
       "|---|\n",
       "| 0.5970342 |\n",
       "\n"
      ],
      "text/plain": [
       "  mean(Gender == \"Male\")\n",
       "1 0.5970342             "
      ]
     },
     "metadata": {},
     "output_type": "display_data"
    }
   ],
   "source": [
    "# Any summary tables that are relevant to your analysis.\n",
    "print(paste(\"Number of rows: \" ,nrow(employee_clean)))\n",
    "print(paste(\"Number of NAs row: \" , sum(is.na(employee_clean))))\n",
    "\n",
    "\n",
    "retention_proportions <- employee_clean %>%\n",
    "  count(LeaveOrNot) %>%\n",
    "  mutate(retention_proportion = n / sum(n))\n",
    "retention_proportions\n",
    "\n",
    "payment_tier_proportions <- employee_clean %>%\n",
    "  count(LeaveOrNot, PaymentTier) %>%\n",
    "  group_by(LeaveOrNot) %>%\n",
    "  mutate(proportion_payment = n / sum(n))\n",
    "payment_tier_proportions\n",
    "\n",
    "age_gender_yoe_proportions <- employee_clean %>%\n",
    "  group_by(LeaveOrNot) %>%\n",
    "  summarise(\n",
    "    proportion_male = mean(Gender == \"Male\"),\n",
    "    average_age = mean(Age))\n",
    "age_gender_yoe_proportions\n",
    "\n",
    "employee_clean|>summarize(mean(Gender=='Male'))\n"
   ]
  },
  {
   "cell_type": "markdown",
   "id": "98ca92db-716f-48ab-bae2-1808c4781952",
   "metadata": {},
   "source": [
    "With the insights display as digits, it might still be hard to detect and trends in the distribution between covariates. We will visualize them for easier interpretation"
   ]
  },
  {
   "cell_type": "markdown",
   "id": "64829a18-79f0-4f26-9d91-4fdfd4107979",
   "metadata": {},
   "source": [
    "## Visualizing the data"
   ]
  },
  {
   "cell_type": "markdown",
   "id": "f2271e4c-8030-4887-8e32-ab60a20c288d",
   "metadata": {},
   "source": [
    "### Gender"
   ]
  },
  {
   "cell_type": "code",
   "execution_count": 5,
   "id": "67987be8-7893-4af8-9105-0494089641be",
   "metadata": {
    "tags": []
   },
   "outputs": [
    {
     "name": "stderr",
     "output_type": "stream",
     "text": [
      "Warning message in geom_bar(position = \"dodge\", bins = 8):\n",
      "“\u001b[1m\u001b[22mIgnoring unknown parameters: `bins`”\n"
     ]
    },
    {
     "data": {
      "image/png": "[encoded data removed]",
      "text/plain": [
       "plot without title"
      ]
     },
     "metadata": {
      "image/png": {
       "height": 360,
       "width": 600
      }
     },
     "output_type": "display_data"
    }
   ],
   "source": [
    "# Plot the relevant raw data, tailoring your plot to address your question.\n",
    "options(repr.plot.width = 10, repr.plot.height = 6) \n",
    "\n",
    "# Clustered Bar Chart of Retention, Filled by Gender\n",
    "gender_retention_barchart <- \n",
    "    employee_clean %>%\n",
    "    ggplot(aes(LeaveOrNot, \n",
    "               fill = Gender)) +\n",
    "    geom_bar(position = \"dodge\",\n",
    "             bins = 8) +\n",
    "    theme(text = element_text(size = 22)) +\n",
    "    ggtitle(\"Clustered Bar Chart of Employee Retention vs. Gender\") +\n",
    "    labs(x = \"Retention (0 - Stayed; 1 - Left)\", y = \"Count\", fill = \"Gender\") +\n",
    "    theme_minimal() +\n",
    "    theme(\n",
    "    text = element_text(size = 15),          \n",
    "  )\n",
    "gender_retention_barchart\n"
   ]
  },
  {
   "cell_type": "markdown",
   "id": "fa17324d-e554-47e0-972e-ece76bfa34a7",
   "metadata": {},
   "source": [
    "<center>Figure 1: Rentention vs. Gender distributions</center>"
   ]
  },
  {
   "cell_type": "markdown",
   "id": "5d0f321a-5670-4921-ae9b-be1097087529",
   "metadata": {},
   "source": [
    "### Observations\n",
    "**Stayed:**\n",
    "- A significantly larger number of males stayed with the company compared to females. This suggests that the retention rate for males is higher than for females in this dataset\n",
    "\n",
    "**Left:**\n",
    "- The count of male and female employees who left their companies appears to be relatively similar. This suggests that while more males stayed, the difference in turnover rates between genders isn't as pronounced as the difference in retention\n"
   ]
  },
  {
   "cell_type": "markdown",
   "id": "4f9d1c5d-abfa-4263-9cf4-3c4e27a20847",
   "metadata": {},
   "source": [
    "### Salary"
   ]
  },
  {
   "cell_type": "code",
   "execution_count": 6,
   "id": "e8b82b17-6381-4fa3-b403-1bd25b8b3d8e",
   "metadata": {
    "tags": []
   },
   "outputs": [
    {
     "name": "stderr",
     "output_type": "stream",
     "text": [
      "Warning message in geom_bar(position = \"dodge\", bins = 8):\n",
      "“\u001b[1m\u001b[22mIgnoring unknown parameters: `bins`”\n"
     ]
    },
    {
     "data": {
      "image/png": "[encoded data removed]",
      "text/plain": [
       "plot without title"
      ]
     },
     "metadata": {
      "image/png": {
       "height": 360,
       "width": 600
      }
     },
     "output_type": "display_data"
    }
   ],
   "source": [
    "# Clustered Bar Chart of Retention, Filled by Salary\n",
    "salary_retention_barchart <- \n",
    "    employee_clean %>%\n",
    "    ggplot(aes(LeaveOrNot, \n",
    "               fill = PaymentTier)) +\n",
    "    geom_bar(position = \"dodge\",\n",
    "             bins = 8) +\n",
    "    theme(text = element_text(size = 22)) +\n",
    "    ggtitle(\"Clustered Bar Chart of Employee Retention vs. Salary\") +\n",
    "    scale_fill_manual(values = c(\"red\", \"orange\", \"yellow\"), labels = c(\"Highest Pay\", \"Medium Pay\", \"Lowest Pay\")) +\n",
    "    labs(x = \"Retention (0 - Stayed; 1 - Left)\", y = \"Count\", fill = \"Salary Level\") +\n",
    "    theme_minimal() +\n",
    "    theme(\n",
    "    text = element_text(size = 15),          \n",
    "  )\n",
    "salary_retention_barchart\n"
   ]
  },
  {
   "cell_type": "markdown",
   "id": "ab2fe1f8-fe76-4a2e-8d5f-0c80043b2dfd",
   "metadata": {},
   "source": [
    "<center>Figure 2: Retention vs. Payment Tier</center>"
   ]
  },
  {
   "cell_type": "markdown",
   "id": "8576bcf5-52dc-44a7-9e4e-6714c6be0a63",
   "metadata": {},
   "source": [
    "### Observations\n",
    "The trend for those who stayed and those who left was similar between payment tiers. This might suggest that there are no significant relationship between employee's retention and salary.\n"
   ]
  },
  {
   "cell_type": "markdown",
   "id": "03364366-ed60-437b-b353-9c47e12be26e",
   "metadata": {},
   "source": [
    "### Age"
   ]
  },
  {
   "cell_type": "code",
   "execution_count": 7,
   "id": "94eba5ee-a8ea-44a4-8ad3-068b3a9e4eb6",
   "metadata": {
    "tags": []
   },
   "outputs": [
    {
     "data": {
      "image/png": "[encoded data removed]",
      "text/plain": [
       "plot without title"
      ]
     },
     "metadata": {
      "image/png": {
       "height": 360,
       "width": 600
      }
     },
     "output_type": "display_data"
    }
   ],
   "source": [
    "# Side-by-side Histograms of Age Distribution by Retention\n",
    "age_retention_histogram <- \n",
    "    employee_clean %>%\n",
    "    ggplot(aes(x = Age, fill = as.factor(LeaveOrNot))) +\n",
    "    geom_histogram(position = \"dodge\", binwidth = 5) +\n",
    "    facet_wrap(~LeaveOrNot, scales = \"fixed\") + \n",
    "    scale_fill_manual(values = c(\"0\" = \"dark green\", \"1\" = \"red\"),\n",
    "                      labels = c(\"Stayed\", \"Left\")) +\n",
    "    theme(text = element_text(size = 22)) +\n",
    "    ggtitle(\"Histograms of Age Distribution by Retention\") +\n",
    "    labs(x = \"Age\", y = \"Count\", fill = \"Retention\") +\n",
    "    theme_minimal() +\n",
    "    theme(\n",
    "        text = element_text(size = 15)\n",
    "    )\n",
    "age_retention_histogram\n"
   ]
  },
  {
   "cell_type": "markdown",
   "id": "7a5998c0-0d4f-46a5-99b7-ffb690be7f30",
   "metadata": {},
   "source": [
    "<center>Figure 3: Retention vs. Age</center>"
   ]
  },
  {
   "cell_type": "markdown",
   "id": "aabda904-76b2-4368-b671-799d8172b244",
   "metadata": {},
   "source": [
    "### Observations:\n",
    "**Stayed:** \n",
    "- Employees who stayed with the company are younger with a peak in the age range of 25 to 30 years\n",
    "\n",
    "**Left:**\n",
    "- Employees who left the company also primarily fall within the younger age group (25-30 years old), although the numbers are significantly less compared to those who stayed."
   ]
  },
  {
   "cell_type": "markdown",
   "id": "147affed-bd1f-4d8d-8895-4a937516f687",
   "metadata": {},
   "source": [
    "## Splitting the data set and Fitting the model"
   ]
  },
  {
   "cell_type": "markdown",
   "id": "3bb8f2d1-7152-42c2-bc40-e2af92ccf5f8",
   "metadata": {},
   "source": [
    "- **Setting the seed**: We will set the seed to ensure that the results are reproducible.\n",
    "- **Spliting the data**: Uses `initial_split` function from the `rsmaple` package to split the data set `employee_clean` with 70% of the data assigned to the training set.\n",
    "- **Fitting the model**: We will fit a logistic regression model using only the intercept with no predictors to serve as a starting point for forward selection. We will also fit a logistic regression model using all the predictors which represents the most complex model that includes every potential variable\n",
    "- **Forward Selection:** using `stepAIC` to perform forward selection to pick the best covariates candidates."
   ]
  },
  {
   "cell_type": "code",
   "execution_count": 8,
   "id": "1dc7e79b-ba91-43dd-993f-1f6980b8dbdd",
   "metadata": {
    "tags": []
   },
   "outputs": [
    {
     "data": {
      "text/plain": [
       "\n",
       "Call:\n",
       "glm(formula = LeaveOrNot ~ PaymentTier + Gender + City + YearsInCompany + \n",
       "    Education + EverBenched + Age + ExperienceInCurrentDomain, \n",
       "    family = binomial, data = training_data)\n",
       "\n",
       "Coefficients:\n",
       "                           Estimate Std. Error z value Pr(>|z|)    \n",
       "(Intercept)               -0.190156   0.334559  -0.568  0.56978    \n",
       "PaymentTier2               0.788061   0.192378   4.096 4.20e-05 ***\n",
       "PaymentTier3              -0.031605   0.175743  -0.180  0.85728    \n",
       "GenderFemale               0.909960   0.084824  10.728  < 2e-16 ***\n",
       "CityNew Delhi             -0.565955   0.118038  -4.795 1.63e-06 ***\n",
       "CityPune                   0.569343   0.102826   5.537 3.08e-08 ***\n",
       "YearsInCompany            -0.163825   0.022862  -7.166 7.73e-13 ***\n",
       "EducationMasters           0.725931   0.114151   6.359 2.03e-10 ***\n",
       "EducationPHD               0.008057   0.236772   0.034  0.97285    \n",
       "EverBenchedYes             0.647920   0.126043   5.140 2.74e-07 ***\n",
       "Age                       -0.022327   0.008590  -2.599  0.00935 ** \n",
       "ExperienceInCurrentDomain -0.044548   0.026315  -1.693  0.09047 .  \n",
       "---\n",
       "Signif. codes:  0 ‘***’ 0.001 ‘**’ 0.01 ‘*’ 0.05 ‘.’ 0.1 ‘ ’ 1\n",
       "\n",
       "(Dispersion parameter for binomial family taken to be 1)\n",
       "\n",
       "    Null deviance: 4184.4  on 3256  degrees of freedom\n",
       "Residual deviance: 3650.1  on 3245  degrees of freedom\n",
       "AIC: 3674.1\n",
       "\n",
       "Number of Fisher Scoring iterations: 4\n"
      ]
     },
     "metadata": {},
     "output_type": "display_data"
    }
   ],
   "source": [
    "set.seed(1)\n",
    "\n",
    "split<- initial_split(employee_clean,prop=.7,)\n",
    "training_data<-training(split)\n",
    "testing_data<-testing(split)\n",
    "\n",
    "\n",
    "# Fit initial model with only the intercept\n",
    "intercept_model <- glm(LeaveOrNot ~ 1, family = binomial, data = training_data)\n",
    "complete_model <- glm(LeaveOrNot ~ ., family = binomial, data = training_data)\n",
    "\n",
    "# Perform forward selection\n",
    "selected_model <- stepAIC(intercept_model, \n",
    "                          scope = list(lower = intercept_model, upper = complete_model), \n",
    "                          direction = \"forward\", \n",
    "                          trace = FALSE)\n",
    "\n",
    "# View the selected model\n",
    "(results <- summary(selected_model))"
   ]
  },
  {
   "cell_type": "markdown",
   "id": "9574b21e-4357-45bd-bda6-a0b6a0ba120e",
   "metadata": {},
   "source": [
    "## Interpretation"
   ]
  },
  {
   "cell_type": "markdown",
   "id": "c2d880f1-fb2b-4ebe-a7f6-a617a3b2dcf4",
   "metadata": {},
   "source": [
    "**AIC (Akaike Information Criterion)**: 3674.1, is a measure of the model's quality relative to other models. Lower AIC values indicate a model is more likely to be closer to the truth"
   ]
  },
  {
   "cell_type": "markdown",
   "id": "f2362506-fccc-4e1e-8565-053b3ff91a27",
   "metadata": {},
   "source": [
    "Therefore, using the forward-seleciton algorithim, the **inclusion of all 8 variables from our data set yeilds the lowest AIC.**"
   ]
  },
  {
   "cell_type": "code",
   "execution_count": 9,
   "id": "3a04bcf4-2b10-40a7-a628-f3ef07bf8786",
   "metadata": {
    "tags": []
   },
   "outputs": [
    {
     "name": "stdout",
     "output_type": "stream",
     "text": [
      "Start:  AIC=3674.15\n",
      "LeaveOrNot ~ PaymentTier + Gender + City + YearsInCompany + Education + \n",
      "    EverBenched + Age + ExperienceInCurrentDomain\n",
      "\n",
      "                            Df Deviance    AIC\n",
      "<none>                           3650.1 3674.1\n",
      "- ExperienceInCurrentDomain  1   3653.0 3675.0\n",
      "- Age                        1   3657.0 3679.0\n",
      "- EverBenched                1   3676.1 3698.1\n",
      "- Education                  2   3691.7 3711.7\n",
      "- YearsInCompany             1   3702.6 3724.6\n",
      "- PaymentTier                2   3706.0 3726.0\n",
      "- City                       2   3746.4 3766.4\n",
      "- Gender                     1   3766.4 3788.4\n"
     ]
    },
    {
     "data": {
      "text/plain": [
       "\n",
       "Call:  glm(formula = LeaveOrNot ~ PaymentTier + Gender + City + YearsInCompany + \n",
       "    Education + EverBenched + Age + ExperienceInCurrentDomain, \n",
       "    family = binomial, data = training_data)\n",
       "\n",
       "Coefficients:\n",
       "              (Intercept)               PaymentTier2  \n",
       "                -0.190156                   0.788061  \n",
       "             PaymentTier3               GenderFemale  \n",
       "                -0.031605                   0.909960  \n",
       "            CityNew Delhi                   CityPune  \n",
       "                -0.565955                   0.569343  \n",
       "           YearsInCompany           EducationMasters  \n",
       "                -0.163825                   0.725931  \n",
       "             EducationPHD             EverBenchedYes  \n",
       "                 0.008057                   0.647920  \n",
       "                      Age  ExperienceInCurrentDomain  \n",
       "                -0.022327                  -0.044548  \n",
       "\n",
       "Degrees of Freedom: 3256 Total (i.e. Null);  3245 Residual\n",
       "Null Deviance:\t    4184 \n",
       "Residual Deviance: 3650 \tAIC: 3674"
      ]
     },
     "metadata": {},
     "output_type": "display_data"
    }
   ],
   "source": [
    "stepAIC(selected_model) "
   ]
  },
  {
   "cell_type": "markdown",
   "id": "687cb335-82c5-45d2-a90d-b129a4a3162c",
   "metadata": {},
   "source": [
    "This shows that 'ExperienceInCurrentDomain' has the smallest AIC which means that the amount of information loss will be the smallest if we remove this variable. 'Gender', meanwhile, will most harm our AIC should we remove it suggesting that it is the most important single covariate when seeking to predict LeaveOrNot, **using our current model.**\n"
   ]
  },
  {
   "cell_type": "markdown",
   "id": "e1da2486-d08a-4b01-ade6-8d8c34726a47",
   "metadata": {},
   "source": [
    "### Other evaluation metrics: "
   ]
  },
  {
   "cell_type": "markdown",
   "id": "a0cade77-61d0-4a6d-94cd-7b8fcda85dd7",
   "metadata": {
    "tags": []
   },
   "source": [
    "**Cp (Mallows' Cp)** and **BIC (Bayesian Information Criterion)** are both statistical measures used to evaluate the fit of regression model. They help to balance the goodness of fit of the model against its complexity, aiming to identify models that are neither overfit nor underfit"
   ]
  },
  {
   "cell_type": "markdown",
   "id": "fa576aa2-5677-4862-950f-ae6c543dc05d",
   "metadata": {},
   "source": [
    "#### Let's calculate these coefficients to reveal some insights about model selection"
   ]
  },
  {
   "cell_type": "code",
   "execution_count": 10,
   "id": "18911c97-5b9c-4aeb-98dc-ac2a22844b8e",
   "metadata": {
    "tags": []
   },
   "outputs": [
    {
     "data": {
      "text/html": [
       "<table class=\"dataframe\">\n",
       "<caption>A tibble: 8 × 4</caption>\n",
       "<thead>\n",
       "\t<tr><th scope=col>n_input_variables</th><th scope=col>RSS</th><th scope=col>BIC</th><th scope=col>Cp</th></tr>\n",
       "\t<tr><th scope=col>&lt;int&gt;</th><th scope=col>&lt;dbl&gt;</th><th scope=col>&lt;dbl&gt;</th><th scope=col>&lt;dbl&gt;</th></tr>\n",
       "</thead>\n",
       "<tbody>\n",
       "\t<tr><td>1</td><td>676.7107</td><td>-243.9553</td><td>314.46347</td></tr>\n",
       "\t<tr><td>2</td><td>657.5563</td><td>-329.3867</td><td>215.48567</td></tr>\n",
       "\t<tr><td>3</td><td>645.9050</td><td>-379.5264</td><td>156.06288</td></tr>\n",
       "\t<tr><td>4</td><td>633.1071</td><td>-436.6196</td><td> 90.59535</td></tr>\n",
       "\t<tr><td>5</td><td>627.8377</td><td>-455.7527</td><td> 64.81635</td></tr>\n",
       "\t<tr><td>6</td><td>622.4313</td><td>-475.8323</td><td> 38.31478</td></tr>\n",
       "\t<tr><td>7</td><td>617.1953</td><td>-495.2579</td><td> 12.71197</td></tr>\n",
       "\t<tr><td>8</td><td>616.0994</td><td>-492.9577</td><td>  8.93457</td></tr>\n",
       "</tbody>\n",
       "</table>\n"
      ],
      "text/latex": [
       "A tibble: 8 × 4\n",
       "\\begin{tabular}{llll}\n",
       " n\\_input\\_variables & RSS & BIC & Cp\\\\\n",
       " <int> & <dbl> & <dbl> & <dbl>\\\\\n",
       "\\hline\n",
       "\t 1 & 676.7107 & -243.9553 & 314.46347\\\\\n",
       "\t 2 & 657.5563 & -329.3867 & 215.48567\\\\\n",
       "\t 3 & 645.9050 & -379.5264 & 156.06288\\\\\n",
       "\t 4 & 633.1071 & -436.6196 &  90.59535\\\\\n",
       "\t 5 & 627.8377 & -455.7527 &  64.81635\\\\\n",
       "\t 6 & 622.4313 & -475.8323 &  38.31478\\\\\n",
       "\t 7 & 617.1953 & -495.2579 &  12.71197\\\\\n",
       "\t 8 & 616.0994 & -492.9577 &   8.93457\\\\\n",
       "\\end{tabular}\n"
      ],
      "text/markdown": [
       "\n",
       "A tibble: 8 × 4\n",
       "\n",
       "| n_input_variables &lt;int&gt; | RSS &lt;dbl&gt; | BIC &lt;dbl&gt; | Cp &lt;dbl&gt; |\n",
       "|---|---|---|---|\n",
       "| 1 | 676.7107 | -243.9553 | 314.46347 |\n",
       "| 2 | 657.5563 | -329.3867 | 215.48567 |\n",
       "| 3 | 645.9050 | -379.5264 | 156.06288 |\n",
       "| 4 | 633.1071 | -436.6196 |  90.59535 |\n",
       "| 5 | 627.8377 | -455.7527 |  64.81635 |\n",
       "| 6 | 622.4313 | -475.8323 |  38.31478 |\n",
       "| 7 | 617.1953 | -495.2579 |  12.71197 |\n",
       "| 8 | 616.0994 | -492.9577 |   8.93457 |\n",
       "\n"
      ],
      "text/plain": [
       "  n_input_variables RSS      BIC       Cp       \n",
       "1 1                 676.7107 -243.9553 314.46347\n",
       "2 2                 657.5563 -329.3867 215.48567\n",
       "3 3                 645.9050 -379.5264 156.06288\n",
       "4 4                 633.1071 -436.6196  90.59535\n",
       "5 5                 627.8377 -455.7527  64.81635\n",
       "6 6                 622.4313 -475.8323  38.31478\n",
       "7 7                 617.1953 -495.2579  12.71197\n",
       "8 8                 616.0994 -492.9577   8.93457"
      ]
     },
     "metadata": {},
     "output_type": "display_data"
    }
   ],
   "source": [
    "glm_add<-regsubsets(\n",
    "   LeaveOrNot~., nvmax=ncol(training_data)-1,\n",
    "   data=training_data,\n",
    "   method= 'forward'\n",
    " )\n",
    "\n",
    "glm_add <- summary(glm_add)\n",
    "\n",
    "summary <- tibble(\n",
    "    n_input_variables = 1:8,\n",
    "    RSS = glm_add$rss,\n",
    "    BIC = glm_add$bic,\n",
    "    Cp = glm_add$cp\n",
    ")\n",
    "\n",
    "summary"
   ]
  },
  {
   "cell_type": "markdown",
   "id": "bb772c53-e00f-43a0-b5d3-077f9af965bb",
   "metadata": {},
   "source": [
    "We can see that the inclusion of all **8 variables** `Education`, `YearsInCompany`, `City`, `PaymentTier`, `Age`, `Gender`, `EverBenched`, `ExperienceInCurrentDomain` is still desireable with the new metrics"
   ]
  },
  {
   "cell_type": "markdown",
   "id": "4a9ba0e0-38f1-4e17-a49a-7fe351081c95",
   "metadata": {},
   "source": [
    "As an aside: this might be more obvious if we convert our covariates to numerical form. We can do this because our response remains binomial."
   ]
  },
  {
   "cell_type": "code",
   "execution_count": 11,
   "id": "4f4e4bfe-2105-4dd8-a712-bc6bb5ddfc2f",
   "metadata": {
    "tags": []
   },
   "outputs": [
    {
     "data": {
      "text/plain": [
       "Subset selection object\n",
       "Call: regsubsets.formula(LeaveOrNot ~ ., nvmax = ncol(employee_num) - \n",
       "    1, data = employee_num, method = \"backward\")\n",
       "8 Variables  (and intercept)\n",
       "                          Forced in Forced out\n",
       "Education                     FALSE      FALSE\n",
       "JoiningYear                   FALSE      FALSE\n",
       "City                          FALSE      FALSE\n",
       "PaymentTier                   FALSE      FALSE\n",
       "Age                           FALSE      FALSE\n",
       "Gender                        FALSE      FALSE\n",
       "EverBenched                   FALSE      FALSE\n",
       "ExperienceInCurrentDomain     FALSE      FALSE\n",
       "1 subsets of each size up to 8\n",
       "Selection Algorithm: backward\n",
       "         Education JoiningYear City PaymentTier Age Gender EverBenched\n",
       "1  ( 1 ) \" \"       \" \"         \" \"  \" \"         \" \" \"*\"    \" \"        \n",
       "2  ( 1 ) \" \"       \"*\"         \" \"  \" \"         \" \" \"*\"    \" \"        \n",
       "3  ( 1 ) \" \"       \"*\"         \" \"  \"*\"         \" \" \"*\"    \" \"        \n",
       "4  ( 1 ) \" \"       \"*\"         \"*\"  \"*\"         \" \" \"*\"    \" \"        \n",
       "5  ( 1 ) \"*\"       \"*\"         \"*\"  \"*\"         \" \" \"*\"    \" \"        \n",
       "6  ( 1 ) \"*\"       \"*\"         \"*\"  \"*\"         \" \" \"*\"    \"*\"        \n",
       "7  ( 1 ) \"*\"       \"*\"         \"*\"  \"*\"         \"*\" \"*\"    \"*\"        \n",
       "8  ( 1 ) \"*\"       \"*\"         \"*\"  \"*\"         \"*\" \"*\"    \"*\"        \n",
       "         ExperienceInCurrentDomain\n",
       "1  ( 1 ) \" \"                      \n",
       "2  ( 1 ) \" \"                      \n",
       "3  ( 1 ) \" \"                      \n",
       "4  ( 1 ) \" \"                      \n",
       "5  ( 1 ) \" \"                      \n",
       "6  ( 1 ) \" \"                      \n",
       "7  ( 1 ) \" \"                      \n",
       "8  ( 1 ) \"*\"                      "
      ]
     },
     "metadata": {},
     "output_type": "display_data"
    },
    {
     "data": {
      "text/html": [
       "<table class=\"dataframe\">\n",
       "<caption>A tibble: 8 × 4</caption>\n",
       "<thead>\n",
       "\t<tr><th scope=col>n_input_variables</th><th scope=col>RSS</th><th scope=col>BIC</th><th scope=col>Cp</th></tr>\n",
       "\t<tr><th scope=col>&lt;int&gt;</th><th scope=col>&lt;dbl&gt;</th><th scope=col>&lt;dbl&gt;</th><th scope=col>&lt;dbl&gt;</th></tr>\n",
       "</thead>\n",
       "<tbody>\n",
       "\t<tr><td>1</td><td>998.6821</td><td>-215.4569</td><td>403.61882</td></tr>\n",
       "\t<tr><td>2</td><td>965.0360</td><td>-366.4748</td><td>235.39387</td></tr>\n",
       "\t<tr><td>3</td><td>946.3549</td><td>-448.9855</td><td>142.88052</td></tr>\n",
       "\t<tr><td>4</td><td>935.3227</td><td>-495.1012</td><td> 89.06584</td></tr>\n",
       "\t<tr><td>5</td><td>928.2902</td><td>-521.7734</td><td> 55.48600</td></tr>\n",
       "\t<tr><td>6</td><td>921.9960</td><td>-544.9845</td><td> 25.64224</td></tr>\n",
       "\t<tr><td>7</td><td>918.7702</td><td>-552.8476</td><td> 11.32165</td></tr>\n",
       "\t<tr><td>8</td><td>917.9160</td><td>-548.7304</td><td>  9.00000</td></tr>\n",
       "</tbody>\n",
       "</table>\n"
      ],
      "text/latex": [
       "A tibble: 8 × 4\n",
       "\\begin{tabular}{llll}\n",
       " n\\_input\\_variables & RSS & BIC & Cp\\\\\n",
       " <int> & <dbl> & <dbl> & <dbl>\\\\\n",
       "\\hline\n",
       "\t 1 & 998.6821 & -215.4569 & 403.61882\\\\\n",
       "\t 2 & 965.0360 & -366.4748 & 235.39387\\\\\n",
       "\t 3 & 946.3549 & -448.9855 & 142.88052\\\\\n",
       "\t 4 & 935.3227 & -495.1012 &  89.06584\\\\\n",
       "\t 5 & 928.2902 & -521.7734 &  55.48600\\\\\n",
       "\t 6 & 921.9960 & -544.9845 &  25.64224\\\\\n",
       "\t 7 & 918.7702 & -552.8476 &  11.32165\\\\\n",
       "\t 8 & 917.9160 & -548.7304 &   9.00000\\\\\n",
       "\\end{tabular}\n"
      ],
      "text/markdown": [
       "\n",
       "A tibble: 8 × 4\n",
       "\n",
       "| n_input_variables &lt;int&gt; | RSS &lt;dbl&gt; | BIC &lt;dbl&gt; | Cp &lt;dbl&gt; |\n",
       "|---|---|---|---|\n",
       "| 1 | 998.6821 | -215.4569 | 403.61882 |\n",
       "| 2 | 965.0360 | -366.4748 | 235.39387 |\n",
       "| 3 | 946.3549 | -448.9855 | 142.88052 |\n",
       "| 4 | 935.3227 | -495.1012 |  89.06584 |\n",
       "| 5 | 928.2902 | -521.7734 |  55.48600 |\n",
       "| 6 | 921.9960 | -544.9845 |  25.64224 |\n",
       "| 7 | 918.7702 | -552.8476 |  11.32165 |\n",
       "| 8 | 917.9160 | -548.7304 |   9.00000 |\n",
       "\n"
      ],
      "text/plain": [
       "  n_input_variables RSS      BIC       Cp       \n",
       "1 1                 998.6821 -215.4569 403.61882\n",
       "2 2                 965.0360 -366.4748 235.39387\n",
       "3 3                 946.3549 -448.9855 142.88052\n",
       "4 4                 935.3227 -495.1012  89.06584\n",
       "5 5                 928.2902 -521.7734  55.48600\n",
       "6 6                 921.9960 -544.9845  25.64224\n",
       "7 7                 918.7702 -552.8476  11.32165\n",
       "8 8                 917.9160 -548.7304   9.00000"
      ]
     },
     "metadata": {},
     "output_type": "display_data"
    }
   ],
   "source": [
    "employee_num<-employee|>\n",
    "            mutate(Gender=as.factor(Gender))|>\n",
    "            mutate(EverBenched=as.factor(EverBenched))|>\n",
    "            mutate(EverBenched= if_else(EverBenched == \"Yes\", 1, 0))|>\n",
    "            mutate(Gender= if_else(Gender== \"Male\", 1, 0))|>\n",
    "            mutate(Education=as.factor(Education))|>\n",
    "            mutate(Education= if_else(Education == \"Bachelors\", 1, if_else(Education=='Masters',2,3)))|>\n",
    "            mutate(City= if_else(City == \"New Delhi\", 1, if_else(Education=='Bangalore',2,3)))\n",
    "\n",
    "\n",
    "glm_2<-regsubsets(\n",
    "   LeaveOrNot~., nvmax=ncol(employee_num)-1,\n",
    "   data=employee_num,\n",
    "   method= 'backward'\n",
    " )\n",
    "\n",
    "glm_2 <- summary(glm_2)\n",
    "\n",
    "summary_num<- tibble(\n",
    "    n_input_variables = 1:8,\n",
    "    RSS = glm_2$rss,\n",
    "    BIC = glm_2$bic,\n",
    "    Cp = glm_2$cp\n",
    ")\n",
    "\n",
    "glm_2\n",
    "summary_num"
   ]
  },
  {
   "cell_type": "markdown",
   "id": "0dc4ba70-f16d-4e57-a23a-030429133ae1",
   "metadata": {},
   "source": [
    "### Backward selection yields the same results. \n",
    "\n",
    "Again, we can see that `Gender` is selected first and `ExperienceInCurrentDomain` is selected last. So while `Gender` is the most important covariate standing alone, `ExperienceInCurrentDomain` still provides more explanatory power than it might 'cost' in our model."
   ]
  },
  {
   "cell_type": "markdown",
   "id": "29c8918d-1fd5-4ace-9933-1ca32902ca64",
   "metadata": {},
   "source": [
    "## Prediction"
   ]
  },
  {
   "cell_type": "markdown",
   "id": "14d0476a-c928-4027-a050-4c7668bd2263",
   "metadata": {},
   "source": [
    "Let's evaluate our model performance when predicting our testing_data\n",
    "\n",
    "**Predictions Thresholds:** The prediction threshold will be 0.5. This means that if the predicted probability is greater or equal to 0.5, it is classified as 1, 0 otherwise.\n",
    "\n",
    "**Confusion Matrix:** we generate a confusion matrix of the model based on the testing data to evaluate how how the model performs when predicting unseen data"
   ]
  },
  {
   "cell_type": "code",
   "execution_count": 12,
   "id": "3e1935ca-1562-4403-91c1-f8fbabcad157",
   "metadata": {
    "tags": []
   },
   "outputs": [
    {
     "data": {
      "text/html": [
       "<table class=\"dataframe\">\n",
       "<caption>A tibble: 6 × 11</caption>\n",
       "<thead>\n",
       "\t<tr><th scope=col>Education</th><th scope=col>YearsInCompany</th><th scope=col>City</th><th scope=col>PaymentTier</th><th scope=col>Age</th><th scope=col>Gender</th><th scope=col>EverBenched</th><th scope=col>ExperienceInCurrentDomain</th><th scope=col>LeaveOrNot</th><th scope=col>pred</th><th scope=col>pred_value</th></tr>\n",
       "\t<tr><th scope=col>&lt;chr&gt;</th><th scope=col>&lt;dbl&gt;</th><th scope=col>&lt;chr&gt;</th><th scope=col>&lt;fct&gt;</th><th scope=col>&lt;dbl&gt;</th><th scope=col>&lt;fct&gt;</th><th scope=col>&lt;fct&gt;</th><th scope=col>&lt;dbl&gt;</th><th scope=col>&lt;fct&gt;</th><th scope=col>&lt;dbl&gt;</th><th scope=col>&lt;fct&gt;</th></tr>\n",
       "</thead>\n",
       "<tbody>\n",
       "\t<tr><td>Bachelors</td><td>5</td><td>Pune     </td><td>1</td><td>28</td><td>Female</td><td>No </td><td>3</td><td>1</td><td>0.4283059</td><td>0</td></tr>\n",
       "\t<tr><td>Bachelors</td><td>2</td><td>Bangalore</td><td>3</td><td>22</td><td>Male  </td><td>No </td><td>0</td><td>0</td><td>0.2610353</td><td>0</td></tr>\n",
       "\t<tr><td>Bachelors</td><td>2</td><td>Bangalore</td><td>3</td><td>34</td><td>Female</td><td>No </td><td>2</td><td>1</td><td>0.3804474</td><td>0</td></tr>\n",
       "\t<tr><td>Masters  </td><td>1</td><td>New Delhi</td><td>2</td><td>37</td><td>Male  </td><td>No </td><td>2</td><td>0</td><td>0.4204023</td><td>0</td></tr>\n",
       "\t<tr><td>Bachelors</td><td>0</td><td>Pune     </td><td>3</td><td>32</td><td>Male  </td><td>Yes</td><td>5</td><td>1</td><td>0.5145741</td><td>1</td></tr>\n",
       "\t<tr><td>Bachelors</td><td>3</td><td>Pune     </td><td>2</td><td>30</td><td>Female</td><td>No </td><td>0</td><td>1</td><td>0.7142135</td><td>1</td></tr>\n",
       "</tbody>\n",
       "</table>\n"
      ],
      "text/latex": [
       "A tibble: 6 × 11\n",
       "\\begin{tabular}{lllllllllll}\n",
       " Education & YearsInCompany & City & PaymentTier & Age & Gender & EverBenched & ExperienceInCurrentDomain & LeaveOrNot & pred & pred\\_value\\\\\n",
       " <chr> & <dbl> & <chr> & <fct> & <dbl> & <fct> & <fct> & <dbl> & <fct> & <dbl> & <fct>\\\\\n",
       "\\hline\n",
       "\t Bachelors & 5 & Pune      & 1 & 28 & Female & No  & 3 & 1 & 0.4283059 & 0\\\\\n",
       "\t Bachelors & 2 & Bangalore & 3 & 22 & Male   & No  & 0 & 0 & 0.2610353 & 0\\\\\n",
       "\t Bachelors & 2 & Bangalore & 3 & 34 & Female & No  & 2 & 1 & 0.3804474 & 0\\\\\n",
       "\t Masters   & 1 & New Delhi & 2 & 37 & Male   & No  & 2 & 0 & 0.4204023 & 0\\\\\n",
       "\t Bachelors & 0 & Pune      & 3 & 32 & Male   & Yes & 5 & 1 & 0.5145741 & 1\\\\\n",
       "\t Bachelors & 3 & Pune      & 2 & 30 & Female & No  & 0 & 1 & 0.7142135 & 1\\\\\n",
       "\\end{tabular}\n"
      ],
      "text/markdown": [
       "\n",
       "A tibble: 6 × 11\n",
       "\n",
       "| Education &lt;chr&gt; | YearsInCompany &lt;dbl&gt; | City &lt;chr&gt; | PaymentTier &lt;fct&gt; | Age &lt;dbl&gt; | Gender &lt;fct&gt; | EverBenched &lt;fct&gt; | ExperienceInCurrentDomain &lt;dbl&gt; | LeaveOrNot &lt;fct&gt; | pred &lt;dbl&gt; | pred_value &lt;fct&gt; |\n",
       "|---|---|---|---|---|---|---|---|---|---|---|\n",
       "| Bachelors | 5 | Pune      | 1 | 28 | Female | No  | 3 | 1 | 0.4283059 | 0 |\n",
       "| Bachelors | 2 | Bangalore | 3 | 22 | Male   | No  | 0 | 0 | 0.2610353 | 0 |\n",
       "| Bachelors | 2 | Bangalore | 3 | 34 | Female | No  | 2 | 1 | 0.3804474 | 0 |\n",
       "| Masters   | 1 | New Delhi | 2 | 37 | Male   | No  | 2 | 0 | 0.4204023 | 0 |\n",
       "| Bachelors | 0 | Pune      | 3 | 32 | Male   | Yes | 5 | 1 | 0.5145741 | 1 |\n",
       "| Bachelors | 3 | Pune      | 2 | 30 | Female | No  | 0 | 1 | 0.7142135 | 1 |\n",
       "\n"
      ],
      "text/plain": [
       "  Education YearsInCompany City      PaymentTier Age Gender EverBenched\n",
       "1 Bachelors 5              Pune      1           28  Female No         \n",
       "2 Bachelors 2              Bangalore 3           22  Male   No         \n",
       "3 Bachelors 2              Bangalore 3           34  Female No         \n",
       "4 Masters   1              New Delhi 2           37  Male   No         \n",
       "5 Bachelors 0              Pune      3           32  Male   Yes        \n",
       "6 Bachelors 3              Pune      2           30  Female No         \n",
       "  ExperienceInCurrentDomain LeaveOrNot pred      pred_value\n",
       "1 3                         1          0.4283059 0         \n",
       "2 0                         0          0.2610353 0         \n",
       "3 2                         1          0.3804474 0         \n",
       "4 2                         0          0.4204023 0         \n",
       "5 5                         1          0.5145741 1         \n",
       "6 0                         1          0.7142135 1         "
      ]
     },
     "metadata": {},
     "output_type": "display_data"
    },
    {
     "data": {
      "text/plain": [
       "          Truth\n",
       "Prediction   0   1\n",
       "         0 821 286\n",
       "         1  89 200"
      ]
     },
     "metadata": {},
     "output_type": "display_data"
    }
   ],
   "source": [
    "model<-glm(LeaveOrNot~., family=binomial, data=training_data)\n",
    "\n",
    "pred<-testing_data|>\n",
    "            add_predictions(model,var='pred',type='response')\n",
    "\n",
    "data_pred<-pred|>\n",
    "            mutate(pred_value=if_else(pred>=.5,1,0))|>\n",
    "            mutate(pred_value=as.factor(pred_value))\n",
    "\n",
    "con_matrix <- data_pred|>\n",
    "            conf_mat(truth = LeaveOrNot, estimate = pred_value)\n",
    "\n",
    "head(data_pred)\n",
    "con_matrix\n",
    "\n"
   ]
  },
  {
   "cell_type": "markdown",
   "id": "a9efa734-e8c4-4d3e-87ee-7d665e37ce7b",
   "metadata": {},
   "source": [
    "**Matrix Results:**\n",
    "- **True Negatives (TN):** 821 - the model correctly predicted the number of employees who stayed\n",
    "- **False Positives (FP):** 286 - the model incorrectly predicted these employees would leave\n",
    "- **False Negatives (FN):** 89 - the model incorrectly predicted these employees would stay\n",
    "- **True Positives (TP):** 200 - the model correctly predicted the number of employees who left\n"
   ]
  },
  {
   "cell_type": "markdown",
   "id": "841fba11-9047-469e-928c-154e0c819382",
   "metadata": {},
   "source": [
    "We can calculate accuracy, precision, and recall:\n",
    "\n",
    "- **Accuracy:** $\\frac{821 + 200}{821 + 286 + 89 + 200} \\approx 0.74$\n",
    "- **Precision:** $\\frac{200}{200+286} \\approx 0.411$\n",
    "- **Recall:** $\\frac{200}{200+89} \\approx 0.692$\n",
    "\n",
    "**Performance:** There results indicate that the model has a decent ability to identify true positives, but it has a relatively lower precision, suggesting it incorrectly predicts many employees leaving falsely."
   ]
  },
  {
   "cell_type": "markdown",
   "id": "f79a533f-6c42-49c6-810b-16ea942a74f0",
   "metadata": {},
   "source": [
    "# DISCUSSION"
   ]
  },
  {
   "cell_type": "markdown",
   "id": "b82224b1-e9c4-47b6-89a8-9671f3658d48",
   "metadata": {
    "tags": []
   },
   "source": [
    "#### Model Improvements \n",
    "One strategy to enhance the predictive accuracy and reliability of the model would be to integrate advanced cross-validation techniques such as k-fold cross-validation. These methods would help to ensure the model’s robustness and generalizability across various subsets of the dataset, providing a more thorough evaluation of its performance. Furthermore, the model might benefit from the inclusion of more complex variables, such as interaction terms or higher-degree polynomial features, to capture non-linear relationships that simple linear predictors might miss. The model could also be improved using regularization techniques. Methods like LASSO or Ridge could be employed, particularly if the model begins to exhibit signs of overfitting as more variables are included. These approaches help in reducing the model complexity by penalizing the magnitude of the coefficients, thus improving model performance especially in scenarios involving a large number of predictors.\n",
    "\n",
    "With respect to employee retention, incorporating additional predictors like job satisfaction, employee engagement levels, and work-life balance could provide deeper insights into the dynamics of employee turnover. These variables, potentially more indicative of retention than basic demographic data, could be explored using more complex modeling techniques such as random forests or neural networks, which might capture non-linear relationships and interactions more effectively than logistic regression.\n"
   ]
  },
  {
   "cell_type": "markdown",
   "id": "d4963df6-4bd6-4702-ab76-4c9053739d29",
   "metadata": {},
   "source": [
    "#### Future Research\n",
    "Looking ahead, the current study could pave the way for several future research opportunities. One immediate area of exploration could be the analysis of the additional predictive variables that were not initially considered significant, but demonstrate high explanatory power in our model. One might study how location and length of service impact retention for instance. Future studies might also employ more advanced statistical methods which may be more relevant in the context of organizational management. For example, a longitudinal analysis to track changes in employee behavior over time could provide insights into the effectiveness of different retention strategies. Additionally, examining the impact of external factors such as economic conditions or industry trends would be a useful extension to this study as it would offer a macroeconomic perspective on employee turnover. \n",
    "\n",
    "Qualitative research, through surveys or interviews, could also be integrated to understand the underlying causes of employee dissatisfaction that are not captured through structured data alone. This mixed-methods approach would not only validate findings from the predictive model but also enrich the interpretations and provide a comprehensive view of the factors driving employee retention. Each of these steps would significantly contribute to refining the predictive capabilities of the model and broadening the scope of research in organizational behavior and human resource management.\n"
   ]
  },
  {
   "cell_type": "markdown",
   "id": "1751e54b-2729-4a7b-9c33-d4f53a922fac",
   "metadata": {},
   "source": [
    "# REFERENCES"
   ]
  },
  {
   "cell_type": "markdown",
   "id": "a8fa255a-c63f-400e-8695-7a893a5e0710",
   "metadata": {},
   "source": [
    "- Prince, S. E. (2005). Employee retention and turnover: Using motivational variables as a panacea. Journal of American Academy of Business.\n",
    "- Sthapit, Arhan, PhD, and Bikash Shrestha. 2018. “Employee Retention Practices in Hospitality Industry in Nepal: Investigating the Moderating Effect of Management Hierarchy, Age Group and Gender.” SSRN Electronic Journal, January. https://doi.org/10.2139/ssrn.3521281."
   ]
  },
  {
   "cell_type": "code",
   "execution_count": null,
   "id": "889b5d2c-c6de-40bc-acd7-77c385cea149",
   "metadata": {},
   "outputs": [],
   "source": []
  }
 ],
 "metadata": {
  "kernelspec": {
   "display_name": "R",
   "language": "R",
   "name": "ir"
  },
  "language_info": {
   "codemirror_mode": "r",
   "file_extension": ".r",
   "mimetype": "text/x-r-source",
   "name": "R",
   "pygments_lexer": "r",
   "version": "4.3.1"
  }
 },
 "nbformat": 4,
 "nbformat_minor": 5
}
