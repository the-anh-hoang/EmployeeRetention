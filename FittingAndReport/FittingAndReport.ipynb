{
 "cells": [
  {
   "cell_type": "markdown",
   "id": "c822d6f4-c7c0-4cc6-83ee-d77ef0084adb",
   "metadata": {},
   "source": [
    "# INTRODUCTION\n",
    "\n"
   ]
  },
  {
   "cell_type": "markdown",
   "id": "72503806-6439-43e9-84c2-23d1b5f51a63",
   "metadata": {},
   "source": [
    "Employee retention is critical for organizations, impacting company performance and the workplace culture. This report will explore the factors influencing an employee's decision to leave a company and building a model that predicts whether an employee leaves or not based on those factors. "
   ]
  },
  {
   "cell_type": "markdown",
   "id": "f088c901-0a56-4201-aa36-8849dcef8783",
   "metadata": {},
   "source": [
    "A particular focus has been placed on how demographic factors such as age, gender, and payment tier affect turnover rates.\n"
   ]
  },
  {
   "attachments": {},
   "cell_type": "markdown",
   "id": "a807516c-c42f-4b82-9af8-e5843d14f4dd",
   "metadata": {},
   "source": [
    "**Objective:**\n",
    "\n",
    "This study aims to investigate the following question:\n",
    "### <center> Is an employee going to leave a company based on age, gender, and salary? </center>\n",
    "\n"
   ]
  },
  {
   "cell_type": "markdown",
   "id": "248f54fe-84e8-4395-a688-236ac209c825",
   "metadata": {},
   "source": [
    "This research will be conducted with reference to existing literature, including \"Employee Retention Practices in Hospitality Industry in Nepal: Investigating the Moderating Effect of Management Hierarchy, Age Group and Gender\" by Sthapit and Shrestha in 2018 which provide insights into the covariates of interest. By aligning our analysis with these findings, we aim to contribute to the broader understanding of employee turnover and inform organizational practices."
   ]
  },
  {
   "cell_type": "markdown",
   "id": "3d30e353-6bd2-4d94-8c5c-b63f6b8188a8",
   "metadata": {},
   "source": [
    "**Background information:**\n",
    "\n",
    "This study has highlighted that young employees may be more prone to leaving their jobs compared to older employees (Ng et al., 2010). Additionally, the gender dynamics of employee turnover rates are differently distributed between male and female employees. \"Women might have different turnover rates compared to men, influenced by organizational support and workplace environment (Hom et al., 2017).\n",
    "\n",
    "The role of salary as a predictor of employee retention has also been a subject of extensive research. The relationship is complex and may vary depending on other factors such as job satisfaction and career advancement opporunities (Trevor et al., 1997)"
   ]
  },
  {
   "cell_type": "markdown",
   "id": "4aef3806-bcb5-47cd-9a84-b0850645ef8b",
   "metadata": {},
   "source": [
    "## The Data Set"
   ]
  },
  {
   "cell_type": "markdown",
   "id": "1268368a-ddf7-471b-91ba-1b4d5d3c6227",
   "metadata": {},
   "source": [
    "### Employee Retention data set: \n",
    "**Source:** https://www.kaggle.com/datasets/tawfikelmetwally/employee-dataset?resource=download\n",
    "\n",
    "**Summary:**\n",
    "- Number of observations: 4654\n",
    "- Number of features: 9\n",
    "\n",
    "**Features:**\n",
    "- `education`: the degree which each employee obtain.\n",
    "- `JoiningYear`: year at which the employee join the company.\n",
    "- `City`: The location or city where each employee is based or works.\n",
    "- `PaymentTier`: categorization of employees into different salary tiers.\n",
    "- `Age`: the age of each employee, providing demographic insights.\n",
    "- `Gender`: gender identity of employees, promoting diversity analysis.\n",
    "- `EverBenched`: Indicates if an employee has ever been temporarily without assigned work.\n",
    "- `ExperienceInCurrentDomain`: the number of years of experience employees have in their current field.\n",
    "- `LeaveOrNot`: whether the employee left the company or not.\n",
    "\n",
    "**Background:**\n",
    "\n",
    "The data have been collected from company's HR department in 2018 which provide valuable insights into the workforce while maintaining employees privacy rights."
   ]
  },
  {
   "cell_type": "markdown",
   "id": "fe5460a3-36a6-47f1-971b-b300fe63f441",
   "metadata": {},
   "source": [
    "# METHODS and RESULTS"
   ]
  },
  {
   "cell_type": "markdown",
   "id": "53c46762-5043-46a8-a482-debcea5b5d22",
   "metadata": {},
   "source": []
  },
  {
   "cell_type": "markdown",
   "id": "f79a533f-6c42-49c6-810b-16ea942a74f0",
   "metadata": {},
   "source": [
    "# DISCUSSION"
   ]
  },
  {
   "cell_type": "code",
   "execution_count": null,
   "id": "8858e248-225c-4f99-b8eb-59fd13065455",
   "metadata": {},
   "outputs": [],
   "source": []
  },
  {
   "cell_type": "markdown",
   "id": "1751e54b-2729-4a7b-9c33-d4f53a922fac",
   "metadata": {},
   "source": [
    "# REFERENCES"
   ]
  },
  {
   "cell_type": "code",
   "execution_count": null,
   "id": "74e95a4d-3733-4960-9811-6ab8be737010",
   "metadata": {},
   "outputs": [],
   "source": []
  }
 ],
 "metadata": {
  "kernelspec": {
   "display_name": "R",
   "language": "R",
   "name": "ir"
  },
  "language_info": {
   "codemirror_mode": "r",
   "file_extension": ".r",
   "mimetype": "text/x-r-source",
   "name": "R",
   "pygments_lexer": "r",
   "version": "4.3.1"
  }
 },
 "nbformat": 4,
 "nbformat_minor": 5
}
